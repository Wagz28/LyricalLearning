{
 "cells": [
  {
   "cell_type": "markdown",
   "metadata": {},
   "source": [
    "# DOTNET Setup"
   ]
  },
  {
   "cell_type": "markdown",
   "metadata": {},
   "source": [
    "### Learning how to set up DOTNET to create a C# based web app.\n",
    "1. Install DOTNET SDK\n",
    "2. Create ASP.NET webapp project in directory using ```dotnet new webapp```.\n",
    "3. Use ```dotnet watch run``` to run app with hot reload enabled."
   ]
  }
 ],
 "metadata": {
  "language_info": {
   "name": "python"
  }
 },
 "nbformat": 4,
 "nbformat_minor": 2
}
