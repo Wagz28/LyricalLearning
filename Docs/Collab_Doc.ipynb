{
 "cells": [
  {
   "cell_type": "markdown",
   "metadata": {},
   "source": [
    "# Shared Information"
   ]
  },
  {
   "cell_type": "markdown",
   "metadata": {},
   "source": [
    "## Workflow"
   ]
  },
  {
   "cell_type": "markdown",
   "metadata": {},
   "source": [
    "### Agile Methodology\n",
    "\n",
    "*A brief description of what this actually means and how we are implementing it.*\n",
    "\n",
    "A large part of this is using Kanbn for detailing, priotising, scheduling, assigning...etc. work ~ Very useful!\n",
    "\n",
    "### Github Commits\n",
    "**Gitmoji:** https://gitmoji.dev/\n",
    "- ```Docs\\``` Updates - 📄\n",
    "- Task (Kanbn) Updates - 📝\n",
    "- Folder/File Structure Changes - 📂\n",
    "- Successfully Working at this point - ✅ (Specify how)\n",
    "\n",
    "### Github Branching\n",
    "- ```git checkout -b <branch-name>```\n",
    "- ... (For 2/4/25) How do we not get in the way of each other working best!"
   ]
  },
  {
   "cell_type": "markdown",
   "metadata": {},
   "source": [
    "# Pipeline"
   ]
  },
  {
   "cell_type": "markdown",
   "metadata": {},
   "source": [
    "## Azure for Cloud Server\n",
    "\n",
    "Azure can serve as the cloud infrastructure where your .NET C# project will run. You can leverage various Azure services such as:\n",
    "\n",
    "- Azure App Services for deploying your application.\n",
    "- Azure Blob Storage for storing files such as song data, user uploads, etc.\n",
    "- Azure Kubernetes Service (AKS) if you're scaling with microservices.\n",
    "- Azure Functions for serverless processing of specific tasks.\n",
    "- Azure would provide scalability, high availability, and manageability for your application, particularly if it involves cloud-based processing or needs to be accessible from various locations.\n",
    "  \n",
    "Where to start:\n",
    "\n",
    "- Set up an Azure account and explore Azure Portal.\n",
    "- Try deploying a basic C# .NET Core Web API to Azure App Service.\n",
    "- Learn about Azure Resource Manager (ARM) templates for infrastructure as code.\n",
    "\n",
    "\n",
    "## MicroServices Architecture\n",
    "\n",
    "Microservices would break down your application into smaller, independently deployable services. Each service would handle a specific function, which could make your project more maintainable and scalable. For example:\n",
    "\n",
    "- A Song Service for managing song metadata and content.\n",
    "- A User Service for handling user authentication, preferences and progress.\n",
    "\n",
    "This approach allows each microservice to be developed, deployed, and scaled independently, which makes it easier to improve or replace one part of the system without affecting the rest.\n",
    "\n",
    "Where to start:\n",
    "\n",
    "- Build a small .NET Web API service and containerize it with Docker.\n",
    "- Learn ASP.NET Core minimal APIs for lightweight microservices.\n",
    "- Set up an API Gateway using Ocelot or Azure API Management.\n",
    "\n",
    "## Flat file rest API for the songs\n",
    "\n",
    "**Website:** https://www.geeksforgeeks.org/flat-file-database/\n",
    "\n",
    "**Flat File:** A flat file can be a binary file or a plain text file such as CSV, txt, or TSV file. \n",
    "\n",
    "Where to start:\n",
    "\n",
    "- Create a simple ASP.NET Core API that reads/writes JSON files.\n",
    "- Use System.Text.Json or Newtonsoft.Json for serialization.\n",
    "- Add authentication if needed with JWT or API Keys.\n",
    "\n",
    "## Agile Methodology for Continous Improvement\n",
    "\n",
    "- Use Kanban to manage tasks.\n",
    "- Track progress with JIRA, Azure DevOps, or Trello.\n",
    "- CI/CD pipelines in GitHub Actions or Azure DevOps for deployment.\n",
    "- Frequent retrospectives to improve team workflow."
   ]
  },
  {
   "cell_type": "markdown",
   "metadata": {},
   "source": [
    "# Setting up"
   ]
  },
  {
   "cell_type": "markdown",
   "metadata": {},
   "source": [
    "## .NET\n",
    "\n",
    "- .Net SDK 9.0.201: https://dotnet.microsoft.com/en-us/download/dotnet/9.0"
   ]
  },
  {
   "cell_type": "markdown",
   "metadata": {},
   "source": [
    "## Azure"
   ]
  },
  {
   "cell_type": "markdown",
   "metadata": {},
   "source": [
    "### Creating ASP.NET app & deploying on Azure as a web app"
   ]
  },
  {
   "cell_type": "markdown",
   "metadata": {},
   "source": [
    "Tutorial Page: https://learn.microsoft.com/en-us/azure/app-service/quickstart-dotnetcore?tabs=netframework48&pivots=development-environment-vscode\n",
    "\n",
    "Tutorial Videos: https://www.youtube.com/watch?v=EqNJ9IQgODI, https://www.youtube.com/watch?v=y8Hy0uYL3hg, https://www.youtube.com/watch?v=OEdZGF1JcEI, https://www.youtube.com/watch?v=Ud5CqyMHKTg"
   ]
  },
  {
   "cell_type": "markdown",
   "metadata": {},
   "source": [
    "## Connect\n",
    "\n",
    "The next steps require:\n",
    "> 1. Deloy: Deployment of the .NET into the App Service, \n",
    "> 2. Enable: enable a managed identity on app service: \\\n",
    "> Enable: In the App Service, go to Identity (under Settings) and turn on System-assigned Managed Identity.\n",
    "> 3. Grant Acess: grant the app service access:\n",
    "> Go to Azure SQL Server, under Active Directory admin, enable Entra authentication. Then go to the database and open Query Editor and run: \\\n",
    "> ```CREATE USER [your-app-service-name] FROM EXTERNAL PROVIDER;```\\\n",
    "> ```ALTER ROLE db_owner ADD MEMBER [your-app-service-name];```\n",
    "> 4. Connect: connect in .NET:\n",
    "> In appsettings.json - ```json\n",
    "{\n",
    "  \"ConnectionStrings\": {\n",
    "    \"DefaultConnection\": \"Server=tcp:lyrical-sql-server.database.windows.net,1433;Database=LyricalLearningDB;Encrypt=True;Authentication=Active Directory Default;\"\n",
    "  }\n",
    "}``` \\\n",
    "> cmd: ```dotnet add package Azure.Identity```, ```dotnet add package Microsoft.Data.SqlClient```\n",
    "> In Program.cs - ```var credential = new DefaultAzureCredential();```"
   ]
  }
 ],
 "metadata": {
  "language_info": {
   "name": "python"
  }
 },
 "nbformat": 4,
 "nbformat_minor": 2
}
