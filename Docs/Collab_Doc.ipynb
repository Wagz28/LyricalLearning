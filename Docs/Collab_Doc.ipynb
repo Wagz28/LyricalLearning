{
 "cells": [
  {
   "cell_type": "markdown",
   "metadata": {},
   "source": [
    "# Shared Information"
   ]
  },
  {
   "cell_type": "markdown",
   "metadata": {},
   "source": [
    "## Install\n",
    "\n",
    "- .Net SDK 9.0.201: https://dotnet.microsoft.com/en-us/download/dotnet/9.0"
   ]
  },
  {
   "cell_type": "markdown",
   "metadata": {},
   "source": [
    "## Github Commits\n",
    "- ```Docs\\``` Updates - 📝"
   ]
  },
  {
   "cell_type": "markdown",
   "metadata": {},
   "source": [
    "# Pipeline"
   ]
  },
  {
   "cell_type": "markdown",
   "metadata": {},
   "source": [
    "## Azure for Cloud Server\n",
    "\n",
    "Azure can serve as the cloud infrastructure where your .NET C# project will run. You can leverage various Azure services such as:\n",
    "\n",
    "- Azure App Services for deploying your application.\n",
    "- Azure Blob Storage for storing files such as song data, user uploads, etc.\n",
    "- Azure Kubernetes Service (AKS) if you're scaling with microservices.\n",
    "- Azure Functions for serverless processing of specific tasks.\n",
    "- Azure would provide scalability, high availability, and manageability for your application, particularly if it involves cloud-based processing or needs to be accessible from various locations.\n",
    "  \n",
    "Where to start:\n",
    "\n",
    "- Set up an Azure account and explore Azure Portal.\n",
    "- Try deploying a basic C# .NET Core Web API to Azure App Service.\n",
    "- Learn about Azure Resource Manager (ARM) templates for infrastructure as code.\n",
    "\n",
    "\n",
    "## MicroServices Architecture\n",
    "\n",
    "Microservices would break down your application into smaller, independently deployable services. Each service would handle a specific function, which could make your project more maintainable and scalable. For example:\n",
    "\n",
    "- A Song Service for managing song metadata and content.\n",
    "- A User Service for handling user authentication, preferences and progress.\n",
    "\n",
    "This approach allows each microservice to be developed, deployed, and scaled independently, which makes it easier to improve or replace one part of the system without affecting the rest.\n",
    "\n",
    "Where to start:\n",
    "\n",
    "- Build a small .NET Web API service and containerize it with Docker.\n",
    "- Learn ASP.NET Core minimal APIs for lightweight microservices.\n",
    "- Set up an API Gateway using Ocelot or Azure API Management.\n",
    "\n",
    "## Flat file rest API for the songs\n",
    "\n",
    "**Website:** https://www.geeksforgeeks.org/flat-file-database/\n",
    "\n",
    "**Flat File:** A flat file can be a binary file or a plain text file such as CSV, txt, or TSV file. \n",
    "\n",
    "Where to start:\n",
    "\n",
    "- Create a simple ASP.NET Core API that reads/writes JSON files.\n",
    "- Use System.Text.Json or Newtonsoft.Json for serialization.\n",
    "- Add authentication if needed with JWT or API Keys.\n",
    "\n",
    "## Agile Methodology for Continous Improvement\n",
    "\n",
    "- Use Kanban to manage tasks.\n",
    "- Track progress with JIRA, Azure DevOps, or Trello.\n",
    "- CI/CD pipelines in GitHub Actions or Azure DevOps for deployment.\n",
    "- Frequent retrospectives to improve team workflow."
   ]
  }
 ],
 "metadata": {
  "language_info": {
   "name": "python"
  }
 },
 "nbformat": 4,
 "nbformat_minor": 2
}
