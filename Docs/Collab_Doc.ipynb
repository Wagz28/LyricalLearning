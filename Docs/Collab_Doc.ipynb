{
 "cells": [
  {
   "cell_type": "markdown",
   "metadata": {},
   "source": [
    "# Shared Information"
   ]
  },
  {
   "cell_type": "markdown",
   "metadata": {},
   "source": [
    "## Workflow"
   ]
  },
  {
   "cell_type": "markdown",
   "metadata": {},
   "source": [
    "### Agile Methodology\n",
    "\n",
    "*A brief description of what this actually means and how we are implementing it.*\n",
    "\n",
    "A large part of this is using Kanbn for detailing, priotising, scheduling, assigning...etc. work ~ Very useful!\n",
    "\n",
    "### Github Commits\n",
    "**Gitmoji:** https://gitmoji.dev/\n",
    "- ```Docs\\``` Updates - 📄\n",
    "- Task (Kanbn) Updates - 📝\n",
    "- Folder/File Structure Changes - 📂\n",
    "\n",
    "### Github Branching\n",
    "- ... (For 2/4/25) How do we not get in the way of each other working best!"
   ]
  },
  {
   "cell_type": "markdown",
   "metadata": {},
   "source": [
    "# Pipeline"
   ]
  },
  {
   "cell_type": "markdown",
   "metadata": {},
   "source": [
    "## Azure for Cloud Server\n",
    "\n",
    "Azure can serve as the cloud infrastructure where your .NET C# project will run. You can leverage various Azure services such as:\n",
    "\n",
    "- Azure App Services for deploying your application.\n",
    "- Azure Blob Storage for storing files such as song data, user uploads, etc.\n",
    "- Azure Kubernetes Service (AKS) if you're scaling with microservices.\n",
    "- Azure Functions for serverless processing of specific tasks.\n",
    "- Azure would provide scalability, high availability, and manageability for your application, particularly if it involves cloud-based processing or needs to be accessible from various locations.\n",
    "  \n",
    "Where to start:\n",
    "\n",
    "- Set up an Azure account and explore Azure Portal.\n",
    "- Try deploying a basic C# .NET Core Web API to Azure App Service.\n",
    "- Learn about Azure Resource Manager (ARM) templates for infrastructure as code.\n",
    "\n",
    "\n",
    "## MicroServices Architecture\n",
    "\n",
    "Microservices would break down your application into smaller, independently deployable services. Each service would handle a specific function, which could make your project more maintainable and scalable. For example:\n",
    "\n",
    "- A Song Service for managing song metadata and content.\n",
    "- A User Service for handling user authentication, preferences and progress.\n",
    "\n",
    "This approach allows each microservice to be developed, deployed, and scaled independently, which makes it easier to improve or replace one part of the system without affecting the rest.\n",
    "\n",
    "Where to start:\n",
    "\n",
    "- Build a small .NET Web API service and containerize it with Docker.\n",
    "- Learn ASP.NET Core minimal APIs for lightweight microservices.\n",
    "- Set up an API Gateway using Ocelot or Azure API Management.\n",
    "\n",
    "## Flat file rest API for the songs\n",
    "\n",
    "**Website:** https://www.geeksforgeeks.org/flat-file-database/\n",
    "\n",
    "**Flat File:** A flat file can be a binary file or a plain text file such as CSV, txt, or TSV file. \n",
    "\n",
    "Where to start:\n",
    "\n",
    "- Create a simple ASP.NET Core API that reads/writes JSON files.\n",
    "- Use System.Text.Json or Newtonsoft.Json for serialization.\n",
    "- Add authentication if needed with JWT or API Keys.\n",
    "\n",
    "## Agile Methodology for Continous Improvement\n",
    "\n",
    "- Use Kanban to manage tasks.\n",
    "- Track progress with JIRA, Azure DevOps, or Trello.\n",
    "- CI/CD pipelines in GitHub Actions or Azure DevOps for deployment.\n",
    "- Frequent retrospectives to improve team workflow."
   ]
  },
  {
   "cell_type": "markdown",
   "metadata": {},
   "source": [
    "# Setting up"
   ]
  },
  {
   "cell_type": "markdown",
   "metadata": {},
   "source": [
    "## .NET\n",
    "\n",
    "- .Net SDK 9.0.201: https://dotnet.microsoft.com/en-us/download/dotnet/9.0"
   ]
  },
  {
   "cell_type": "markdown",
   "metadata": {},
   "source": [
    "## SQLite"
   ]
  },
  {
   "cell_type": "markdown",
   "metadata": {},
   "source": [
    "<hr>\n",
    "Install\n",
    "\n",
    "```cmd\n",
    "dotnet add package Microsoft.EntityFrameworkCore.Sqlite\n",
    "dotnet add package Microsoft.EntityFrameworkCore.Design\n",
    "```\n",
    "<hr>\n",
    "\n",
    "Set up 📂Models/Song.cs\n",
    "```C#\n",
    "using System.Collections.Generic;\n",
    "\n",
    "public class Song\n",
    "{\n",
    "    public int Id { get; set; }\n",
    "    public string Title { get; set; }\n",
    "    public string Artist { get; set; }\n",
    "    public string OriginalLyrics { get; set; }\n",
    "    public string Language { get; set; }\n",
    "    public List<Translation> Translations { get; set; } = new();\n",
    "}\n",
    "\n",
    "public class Translation\n",
    "{\n",
    "    public int Id { get; set; }\n",
    "    public int SongId { get; set; } // Foreign Key\n",
    "    public Song Song { get; set; }\n",
    "    public string Type { get; set; } // \"word\", \"sentence\", \"paragraph\"\n",
    "    public string OriginalText { get; set; }\n",
    "    public string TranslatedText { get; set; }\n",
    "    public string TargetLanguage { get; set; }\n",
    "}\n",
    "```\n",
    "* EF Core will automatically create these tables in SQLite.\n",
    "\n",
    "<hr>\n",
    "\n",
    "Set up 📂Data/AppDbContext.cs\n",
    "```C#\n",
    "using Microsoft.EntityFrameworkCore;\n",
    "\n",
    "public class AppDbContext : DbContext\n",
    "{\n",
    "    public DbSet<Song> Songs { get; set; }\n",
    "    public DbSet<Translation> Translations { get; set; }\n",
    "\n",
    "    public AppDbContext(DbContextOptions<AppDbContext> options) : base(options) { }\n",
    "\n",
    "    protected override void OnConfiguring(DbContextOptionsBuilder optionsBuilder)\n",
    "    {\n",
    "        if (!optionsBuilder.IsConfigured)\n",
    "        {\n",
    "            optionsBuilder.UseSqlite(\"Data Source=lyrics.db\");\n",
    "        }\n",
    "    }\n",
    "}\n",
    "```\n",
    "\n",
    "* This tells EF Core to use SQLite and store the database in a file called lyrics.db.\n",
    "* The database will be created automatically.\n",
    "\n",
    "<hr>\n",
    "\n",
    "Open ```LyricalLearning.csproj``` and check SQLite and EF Core tools are referenced.\n",
    "\n",
    "Register DB in .NET 📂Program.cs\n",
    "\n",
    "```C#\n",
    "using Microsoft.EntityFrameworkCore;\n",
    "using Microsoft.Extensions.DependencyInjection;\n",
    "\n",
    "var builder = WebApplication.CreateBuilder(args);\n",
    "\n",
    "// Register SQLite Database\n",
    "builder.Services.AddDbContext<AppDbContext>(options =>\n",
    "    options.UseSqlite(\"Data Source=lyrics.db\"));\n",
    "\n",
    "var app = builder.Build();\n",
    "\n",
    "app.Run();\n",
    "```\n",
    "\n",
    "<hr>\n",
    "\n",
    "Create DB\n",
    "```cmd\n",
    "dotnet ef migrations add InitialCreate\n",
    "dotnet ef database update\n",
    "```\n",
    "* Creates the database file (lyrics.db).\n",
    "* Generates tables (Songs, Translations).\n",
    "* Prepares everything for storing lyrics & translations.\n",
    "\n",
    "<hr>"
   ]
  },
  {
   "cell_type": "markdown",
   "metadata": {},
   "source": [
    "## Azure"
   ]
  },
  {
   "cell_type": "markdown",
   "metadata": {},
   "source": [
    "### Creating ASP.NET app & deploying on Azure as a web app"
   ]
  },
  {
   "cell_type": "markdown",
   "metadata": {},
   "source": [
    "Tutorial Page: https://learn.microsoft.com/en-us/azure/app-service/quickstart-dotnetcore?tabs=netframework48&pivots=development-environment-vscode"
   ]
  }
 ],
 "metadata": {
  "language_info": {
   "name": "python"
  }
 },
 "nbformat": 4,
 "nbformat_minor": 2
}
