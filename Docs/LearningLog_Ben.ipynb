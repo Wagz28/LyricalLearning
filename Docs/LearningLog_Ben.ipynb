{
 "cells": [
  {
   "cell_type": "markdown",
   "metadata": {},
   "source": [
    "# Logs\n",
    "\n",
    "> Date: 18/03/25\n",
    "> - Kanbn looks exceptionally promising for workflow!\n",
    ">   - Though still getting used to the workflow involved in collaboration - I find the dynamics of teamwork difficult.\n",
    "> - There were many temporary and personal files in the .Net build that needed to be gitignored. We eventually resolved the issue but on reflection we should have checked and added the necessary gitignore in the same commit as the build.\n",
    "> - We also have realised that we need to investigate further how split our work and learners guide should be.\n",
    "> - The .Net setup seems to have similarities to NodeJs which, considering there will be many things to learn, is a good base to start on.\n",
    "\n",
    "> Next Log..."
   ]
  },
  {
   "cell_type": "markdown",
   "metadata": {},
   "source": [
    "# Working with Github"
   ]
  },
  {
   "cell_type": "markdown",
   "metadata": {},
   "source": [
    "## Command Line\n",
    "\n",
    "- To amend a previous commit message: ```git commit --amend```\n",
    "- To undo the last commit: ```git reset --soft HEAD~1```\n",
    "- To gitignore the necessary folders and files: ```dotnet new gitignore```"
   ]
  }
 ],
 "metadata": {
  "language_info": {
   "name": "python"
  }
 },
 "nbformat": 4,
 "nbformat_minor": 2
}
