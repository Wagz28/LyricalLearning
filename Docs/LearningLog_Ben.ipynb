{
 "cells": [
  {
   "cell_type": "markdown",
   "metadata": {},
   "source": [
    "# Logs\n",
    "\n",
    "> Date: 18/03/25\n",
    "> - Kanbn looks exceptionally promising for workflow!\n",
    ">   - Though still getting used to the workflow involved in collaboration - I find the dynamics of teamwork difficult.\n",
    "> - There were many temporary and personal files in the .Net build that needed to be gitignored. We eventually resolved the issue but on reflection we should have checked and added the necessary gitignore in the same commit as the build.\n",
    "> - We also have realised that we need to investigate further how split our work and learners guide should be.\n",
    "> - The .Net setup seems to have similarities to NodeJs which, considering there will be many things to learn, is a good base to start on.\n",
    "\n",
    "> Date 03/02/25\n",
    "> Debated pros and cons of using the advised flat file vs a database. Decided a database makes a whol lot more sense even if just using SQLite: Using a database means scaling will be very easy and may only need slight changes in syntax if we switch DB, a deciding reason is when I went through how the storage and oragnisation would work for each song having multiple words and their translations in a json flat file was gonna be very messy and hard to use, whereas a DB would be dynamically editable if we desired in the future (very flexible) and the organisation of words, their language and translations is just gonna be a lot easier to work with, though a little more effort to setup.\n",
    "> Did lots of Kanbn task making trying to in precise detail figure out how all the systems will fit together exactly. \n",
    "\n",
    "\n",
    "\n",
    "> Date 04/02/25\n",
    "> Microsoft Azure Setup\n",
    "> Looked through the setup videos and page. It was very useful to find that we can manage permissions for the same resource group. It went through all the possible resources we could use, noting there is a translater, sql database and containers all within Azure. We realised we can likely do everything on Azure. Which can useful in the future if a company uses Azure, and the skills will be transferrable anyway.\n",
    "> Installed Azure Tools Extension as part of Deploying a web app with database tutorial.\n",
    "> https://portal.azure.com/?quickstart=true#view/Microsoft_Azure_Resources/ServicePage.ReactView/id/WebApp\n",
    "> From that we found the link and it seems that when we do want to publish it it's fairly straightforward. \n",
    "> It seems to be set up very very well and Microsoft own Github so it's well set up for that too."
   ]
  },
  {
   "cell_type": "markdown",
   "metadata": {},
   "source": [
    "# Working with Github"
   ]
  },
  {
   "cell_type": "markdown",
   "metadata": {},
   "source": [
    "## Command Line\n",
    "\n",
    "- To amend a previous commit message: ```git commit --amend```\n",
    "- To undo the last commit: ```git reset --soft HEAD~1```\n",
    "- To gitignore the necessary folders and files: ```dotnet new gitignore```"
   ]
  }
 ],
 "metadata": {
  "language_info": {
   "name": "python"
  }
 },
 "nbformat": 4,
 "nbformat_minor": 2
}
